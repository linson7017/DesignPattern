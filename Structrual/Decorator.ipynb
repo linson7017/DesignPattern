{
 "cells": [
  {
   "cell_type": "markdown",
   "metadata": {},
   "source": [
    "# 装饰器模式"
   ]
  },
  {
   "cell_type": "markdown",
   "metadata": {},
   "source": [
    "# ![title](imgs/decorator.png)"
   ]
  },
  {
   "cell_type": "markdown",
   "metadata": {},
   "source": [
    "# 继承和组合实现"
   ]
  },
  {
   "cell_type": "code",
   "execution_count": 16,
   "metadata": {},
   "outputs": [],
   "source": [
    "class Person:    \n",
    "    def __init__(self, name=''):\n",
    "        self.__name = name\n",
    "        \n",
    "    def show(self):\n",
    "        print('装扮'+str(self.__name))"
   ]
  },
  {
   "cell_type": "code",
   "execution_count": 17,
   "metadata": {},
   "outputs": [],
   "source": [
    "class Finery(Person):\n",
    "    def Decorate(self, component):\n",
    "        self.__component = component\n",
    "        \n",
    "    def show(self):\n",
    "        if self.__component != None:\n",
    "            self.__component.show()"
   ]
  },
  {
   "cell_type": "code",
   "execution_count": 33,
   "metadata": {},
   "outputs": [],
   "source": [
    "class TShirts(Finery):\n",
    "    def show(self):\n",
    "        print('大T恤')\n",
    "        super().show()\n",
    "        \n",
    "class BigTrouser(Finery):\n",
    "    def show(self):\n",
    "        print('垮裤')\n",
    "        super().show()\n",
    "        \n",
    "class Sneaker(Finery):\n",
    "    def show(self):\n",
    "        print('球鞋')\n",
    "        super().show()\n",
    "        \n",
    "class LeatherShoes(Finery):\n",
    "    def show(self):\n",
    "        print('皮鞋')\n",
    "        super().show()\n",
    "        \n",
    "class Tie(Finery):\n",
    "    def show(self):\n",
    "        print('领带')\n",
    "        super().show()\n",
    "        \n",
    "class Suit(Finery):\n",
    "    def show(self):\n",
    "        print('西装')\n",
    "        super().show()"
   ]
  },
  {
   "cell_type": "code",
   "execution_count": 34,
   "metadata": {},
   "outputs": [],
   "source": [
    "xc = Person('小菜')"
   ]
  },
  {
   "cell_type": "code",
   "execution_count": 37,
   "metadata": {},
   "outputs": [
    {
     "name": "stdout",
     "output_type": "stream",
     "text": [
      "第一种装扮：\n",
      "大T恤\n",
      "垮裤\n",
      "球鞋\n",
      "装扮小菜\n"
     ]
    }
   ],
   "source": [
    "print('第一种装扮：')\n",
    "shoes = Sneaker()\n",
    "pants = BigTrouser()\n",
    "coat = TShirts()\n",
    "\n",
    "shoes.Decorate(xc)\n",
    "pants.Decorate(shoes)\n",
    "coat.Decorate(pants)\n",
    "coat.show()"
   ]
  },
  {
   "cell_type": "code",
   "execution_count": 38,
   "metadata": {},
   "outputs": [
    {
     "name": "stdout",
     "output_type": "stream",
     "text": [
      "第二种装扮：\n",
      "西装\n",
      "领带\n",
      "皮鞋\n",
      "装扮小菜\n"
     ]
    }
   ],
   "source": [
    "print('第二种装扮：')\n",
    "shoes = LeatherShoes()\n",
    "pants = Tie()\n",
    "coat = Suit()\n",
    "\n",
    "shoes.Decorate(xc)\n",
    "pants.Decorate(shoes)\n",
    "coat.Decorate(pants)\n",
    "coat.show()"
   ]
  },
  {
   "cell_type": "markdown",
   "metadata": {},
   "source": [
    "# Python装饰器"
   ]
  },
  {
   "cell_type": "code",
   "execution_count": 40,
   "metadata": {},
   "outputs": [],
   "source": [
    "def log(func):\n",
    "    def wrapper(*args, **kw):\n",
    "        print('call %s():' % func.__name__)\n",
    "        return func(*args, **kw)\n",
    "    return wrapper\n",
    "\n",
    "@log\n",
    "def now():\n",
    "    print('2015-3-25')"
   ]
  },
  {
   "cell_type": "code",
   "execution_count": 42,
   "metadata": {},
   "outputs": [
    {
     "name": "stdout",
     "output_type": "stream",
     "text": [
      "call now():\n",
      "2015-3-25\n"
     ]
    }
   ],
   "source": [
    "now()"
   ]
  },
  {
   "cell_type": "code",
   "execution_count": 58,
   "metadata": {},
   "outputs": [],
   "source": [
    "def sneaker(func):\n",
    "    def wrapper(*args, **kw):\n",
    "        print('球鞋')\n",
    "        return func(*args, **kw)\n",
    "    return wrapper\n",
    "\n",
    "def big_trouser(func):\n",
    "    def wrapper(*args, **kw):\n",
    "        print('垮裤')\n",
    "        return func(*args, **kw)\n",
    "    return wrapper\n",
    "\n",
    "def tshirt(func):\n",
    "    def wrapper(*args, **kw):\n",
    "        print('T恤')\n",
    "        return func(*args, **kw)\n",
    "    return wrapper\n",
    "\n",
    "def decorator(sth):\n",
    "    def decorate(func):\n",
    "        def wrapper(*args, **kw):\n",
    "            print(sth)\n",
    "            return func(*args, **kw)\n",
    "        return wrapper\n",
    "    return decorate\n",
    "\n",
    "\n",
    "@tshirt\n",
    "@big_trouser\n",
    "@sneaker\n",
    "def show(name):\n",
    "    print('装扮'+str(name))\n",
    "\n",
    "#@decorator('T恤')\n",
    "#@decorator('垮裤')\n",
    "#@decorator('球鞋')\n",
    "#def show(name):\n",
    "#    print('装扮'+str(name))\n",
    "    "
   ]
  },
  {
   "cell_type": "code",
   "execution_count": 59,
   "metadata": {},
   "outputs": [
    {
     "name": "stdout",
     "output_type": "stream",
     "text": [
      "第一种装扮：\n",
      "T恤\n",
      "垮裤\n",
      "球鞋\n",
      "装扮小菜\n"
     ]
    }
   ],
   "source": [
    "print('第一种装扮：')\n",
    "show('小菜')"
   ]
  },
  {
   "cell_type": "markdown",
   "metadata": {},
   "source": [
    "## 第二种装扮同理"
   ]
  },
  {
   "cell_type": "code",
   "execution_count": null,
   "metadata": {},
   "outputs": [],
   "source": []
  }
 ],
 "metadata": {
  "kernelspec": {
   "display_name": "Python 3",
   "language": "python",
   "name": "python3"
  },
  "language_info": {
   "codemirror_mode": {
    "name": "ipython",
    "version": 3
   },
   "file_extension": ".py",
   "mimetype": "text/x-python",
   "name": "python",
   "nbconvert_exporter": "python",
   "pygments_lexer": "ipython3",
   "version": "3.6.4"
  }
 },
 "nbformat": 4,
 "nbformat_minor": 2
}
