{
 "cells": [
  {
   "cell_type": "markdown",
   "metadata": {},
   "source": [
    "# 单例模式"
   ]
  },
  {
   "cell_type": "markdown",
   "metadata": {},
   "source": [
    "![title](imgs/singleton.png)"
   ]
  },
  {
   "cell_type": "markdown",
   "metadata": {},
   "source": [
    "## a. 使用类方法 "
   ]
  },
  {
   "cell_type": "code",
   "execution_count": 5,
   "metadata": {},
   "outputs": [
    {
     "name": "stdout",
     "output_type": "stream",
     "text": [
      "1906411788608 1906411788664 1906411788440 1906411788664\n"
     ]
    }
   ],
   "source": [
    "class Singleton(object):\n",
    "    def __init__(self,*args,**kwargs):\n",
    "        pass\n",
    "\n",
    "    @classmethod\n",
    "    def get_instance(cls, *args, **kwargs):\n",
    "        # 利用反射,看看这个类有没有_instance属性\n",
    "        if not hasattr(Singleton, '_instance'):\n",
    "            Singleton._instance = Singleton(*args, **kwargs)  #懒汉模式\n",
    "\n",
    "        return Singleton._instance\n",
    "\n",
    "\n",
    "s1 = Singleton()  # 使用这种方式创建实例的时候,并不能保证单例\n",
    "s2 = Singleton.get_instance()  # 只有使用这种方式创建的时候才可以实现单例\n",
    "s3 = Singleton()\n",
    "s4 = Singleton.get_instance()\n",
    "\n",
    "print(id(s1), id(s2), id(s3), id(s4))"
   ]
  },
  {
   "cell_type": "markdown",
   "metadata": {},
   "source": [
    "## b.使用 \\_\\_new\\_\\_ 方法（线程安全） "
   ]
  },
  {
   "cell_type": "code",
   "execution_count": 4,
   "metadata": {},
   "outputs": [
    {
     "name": "stdout",
     "output_type": "stream",
     "text": [
      "<__main__.Singleton object at 0x000001BBDEFF56D8> None\n",
      "None\n",
      "None\n",
      "None\n",
      "None\n",
      "None\n",
      "None\n",
      "None\n",
      "None\n",
      "None\n",
      "None\n"
     ]
    }
   ],
   "source": [
    "import threading\n",
    "\n",
    "class Singleton(object):\n",
    "    _instance_lock = threading.Lock()\n",
    "    def __init__(self, *args, **kwargs):\n",
    "        pass\n",
    "    def __new__(cls, *args, **kwargs):\n",
    "        if not hasattr(cls, '_instance'):\n",
    "            with Singleton._instance_lock:  #自动打开自动释放锁\n",
    "                if not hasattr(cls, '_instance'):\n",
    "                    Singleton._instance = super().__new__(cls)\n",
    "            return Singleton._instance\n",
    "\n",
    "obj1 = Singleton()\n",
    "obj2 = Singleton()\n",
    "print(obj1, obj2)\n",
    "\n",
    "\n",
    "def task(arg):\n",
    "    obj = Singleton()\n",
    "    print(obj)\n",
    "\n",
    "\n",
    "for i in range(10):\n",
    "    t = threading.Thread(target=task, args=[i, ])\n",
    "    t.start()\n"
   ]
  },
  {
   "cell_type": "code",
   "execution_count": null,
   "metadata": {},
   "outputs": [],
   "source": []
  },
  {
   "cell_type": "code",
   "execution_count": null,
   "metadata": {},
   "outputs": [],
   "source": []
  }
 ],
 "metadata": {
  "kernelspec": {
   "display_name": "Python 3",
   "language": "python",
   "name": "python3"
  },
  "language_info": {
   "codemirror_mode": {
    "name": "ipython",
    "version": 3
   },
   "file_extension": ".py",
   "mimetype": "text/x-python",
   "name": "python",
   "nbconvert_exporter": "python",
   "pygments_lexer": "ipython3",
   "version": "3.6.4"
  }
 },
 "nbformat": 4,
 "nbformat_minor": 2
}
