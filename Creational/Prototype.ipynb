{
 "cells": [
  {
   "cell_type": "markdown",
   "metadata": {},
   "source": [
    "# 原型模式"
   ]
  },
  {
   "cell_type": "code",
   "execution_count": 31,
   "metadata": {},
   "outputs": [
    {
     "name": "stdout",
     "output_type": "stream",
     "text": [
      "明辉 男 26;工作经历： 2018-2020 强联智创\n",
      "明辉 男 28;工作经历： 2018-2020 强联智创\n",
      "明辉 男 26;工作经历： 2018-至今 强联智创\n"
     ]
    }
   ],
   "source": [
    "import copy\n",
    "class Resume:\n",
    "    _dict = {}\n",
    "    def __init__(self,name):\n",
    "        self._dict['name'] = name\n",
    "        \n",
    "    def set_personal_info(self,sex,age):\n",
    "        self._dict['sex'] = sex\n",
    "        self._dict['age'] = age\n",
    "        \n",
    "    def set_work_experience(self,time_area,company):\n",
    "        self._dict['time_area'] = time_area\n",
    "        self._dict['company'] = company\n",
    "        \n",
    "    def clone(self):\n",
    "        resume = Resume(self._dict['name'])\n",
    "        resume._dict = self._dict\n",
    "        #resume._dict = copy.deepcopy(self._dict)\n",
    "        return resume\n",
    "        \n",
    "    def __str__(self):\n",
    "        return self._dict['name'] +' '+self._dict['sex']+' '+self._dict['age']+';工作经历： '+self._dict['time_area']+' '+self._dict['company']\n",
    "    \n",
    "if __name__ == '__main__':\n",
    "    resume_a = Resume('明辉')\n",
    "    resume_a.set_personal_info('男','26')\n",
    "    resume_a.set_work_experience('2018-2020','强联智创')\n",
    "    print(resume_a)\n",
    "    \n",
    "    resume_b = resume_a.clone()\n",
    "    resume_b.set_personal_info('男','28')\n",
    "    print(resume_b)\n",
    "    \n",
    "    resume_c = resume_a.clone()\n",
    "    resume_c.set_work_experience('2018-至今','强联智创')\n",
    "    print(resume_c)\n",
    "    \n",
    "    \n",
    "    "
   ]
  },
  {
   "cell_type": "code",
   "execution_count": 19,
   "metadata": {},
   "outputs": [],
   "source": [
    "dict1={}\n",
    "dict1['name']='songling'\n",
    "dict1['age']='30'"
   ]
  },
  {
   "cell_type": "code",
   "execution_count": 28,
   "metadata": {},
   "outputs": [],
   "source": [
    "dict2 = dict1\n",
    "dict1['age']='32'"
   ]
  },
  {
   "cell_type": "code",
   "execution_count": 29,
   "metadata": {},
   "outputs": [
    {
     "name": "stdout",
     "output_type": "stream",
     "text": [
      "{'name': 'songling', 'age': '32'}\n",
      "{'name': 'songling', 'age': '32'}\n"
     ]
    }
   ],
   "source": [
    "print(dict1)\n",
    "print(dict2)"
   ]
  },
  {
   "cell_type": "code",
   "execution_count": null,
   "metadata": {},
   "outputs": [],
   "source": []
  }
 ],
 "metadata": {
  "kernelspec": {
   "display_name": "Python 3",
   "language": "python",
   "name": "python3"
  },
  "language_info": {
   "codemirror_mode": {
    "name": "ipython",
    "version": 3
   },
   "file_extension": ".py",
   "mimetype": "text/x-python",
   "name": "python",
   "nbconvert_exporter": "python",
   "pygments_lexer": "ipython3",
   "version": "3.6.4"
  }
 },
 "nbformat": 4,
 "nbformat_minor": 2
}
