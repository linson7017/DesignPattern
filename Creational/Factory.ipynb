{
 "cells": [
  {
   "cell_type": "markdown",
   "metadata": {},
   "source": [
    "# 工厂模式"
   ]
  },
  {
   "cell_type": "code",
   "execution_count": 1,
   "metadata": {},
   "outputs": [],
   "source": [
    "from abc import ABCMeta, abstractmethod"
   ]
  },
  {
   "cell_type": "markdown",
   "metadata": {},
   "source": [
    "## a.简单工厂模式"
   ]
  },
  {
   "cell_type": "markdown",
   "metadata": {},
   "source": [
    "![title](imgs/simple_factory.png)"
   ]
  },
  {
   "cell_type": "code",
   "execution_count": 3,
   "metadata": {},
   "outputs": [
    {
     "name": "stdout",
     "output_type": "stream",
     "text": [
      "50\n"
     ]
    }
   ],
   "source": [
    "class Operation(object):\n",
    "    @property\n",
    "    def number_a(self):\n",
    "        return self.__number_a\n",
    "    @number_a.setter\n",
    "    def number_a(self, value):\n",
    "        self.__number_a = value\n",
    "\n",
    "    @property\n",
    "    def number_b(self):\n",
    "        return self.__number_b\n",
    "\n",
    "    @number_b.setter\n",
    "    def number_b(self, value):\n",
    "        self.__number_b = value\n",
    "    \n",
    "    @abstractmethod\n",
    "    def get_result(self):\n",
    "        pass\n",
    "    \n",
    "class OperationAdd(Operation):\n",
    "    def get_result(self):\n",
    "        return self.number_a + self.number_b\n",
    "\n",
    "\n",
    "class OperationSub(Operation):\n",
    "    def get_result(self):\n",
    "        return self.number_a - self.number_b\n",
    "    \n",
    "class OperationMul(Operation):\n",
    "    def get_result(self):\n",
    "        return self.number_a * self.number_b\n",
    "    \n",
    "class OperationDiv(Operation):\n",
    "    def get_result(self):\n",
    "        return self.number_a / self.number_b\n",
    "\n",
    "\n",
    "class OperationFactory(object):\n",
    "    @staticmethod\n",
    "    def create_operation(operate):\n",
    "        if operate == \"+\":\n",
    "            return OperationAdd()\n",
    "        elif operate == \"-\":\n",
    "            return OperationSub()\n",
    "        elif operate == \"*\":\n",
    "            return OperationMul()\n",
    "        elif operate == \"/\":\n",
    "            return OperationDiv()\n",
    "\n",
    "\n",
    "if __name__ == '__main__':\n",
    "    #op = OperationFactory.create_operation('+')\n",
    "    #op = OperationFactory.create_operation('-')\n",
    "    op = OperationFactory.create_operation('*')\n",
    "    #op = OperationFactory.create_operation('/')\n",
    "\n",
    "    op.number_a = 10\n",
    "    op.number_b = 5\n",
    "\n",
    "    print(op.get_result())"
   ]
  },
  {
   "cell_type": "markdown",
   "metadata": {},
   "source": [
    "## b.工厂方法模式"
   ]
  },
  {
   "cell_type": "markdown",
   "metadata": {},
   "source": [
    "![title](imgs/factory_method.png)"
   ]
  },
  {
   "cell_type": "code",
   "execution_count": 4,
   "metadata": {},
   "outputs": [
    {
     "name": "stdout",
     "output_type": "stream",
     "text": [
      "50\n"
     ]
    }
   ],
   "source": [
    "class Factory(metaclass=ABCMeta):\n",
    "    @abstractmethod\n",
    "    def create_operation(self):\n",
    "        pass\n",
    "\n",
    "\n",
    "class FactoryAdd(Factory):\n",
    "    def create_operation(self):\n",
    "        return  OperationAdd()\n",
    "\n",
    "\n",
    "class FactorySub(Factory):\n",
    "    def create_operation(self):\n",
    "        return  OperationSub()\n",
    "\n",
    "\n",
    "class FactoryMul(Factory):\n",
    "    def create_operation(self):\n",
    "        return  OperationMul()\n",
    "    \n",
    "class FactoryDiv(Factory):\n",
    "    def create_operation(self):\n",
    "        return  OperationDiv()\n",
    "\n",
    "\n",
    "if __name__ == '__main__':\n",
    "    #factory = FactoryAdd()\n",
    "    #factory = FactorySub()\n",
    "    factory = FactoryMul()\n",
    "    #factory = FactoryDiv()\n",
    "    op = factory.create_operation()\n",
    "    op.number_a = 10\n",
    "    op.number_b = 5\n",
    "\n",
    "    print(op.get_result())"
   ]
  },
  {
   "cell_type": "markdown",
   "metadata": {},
   "source": [
    "## c.抽象工厂模式"
   ]
  },
  {
   "cell_type": "markdown",
   "metadata": {},
   "source": [
    "![title](imgs/abstract_factory.png)"
   ]
  },
  {
   "cell_type": "code",
   "execution_count": 6,
   "metadata": {},
   "outputs": [
    {
     "name": "stdout",
     "output_type": "stream",
     "text": [
      "Product User: access user\n",
      "Insert a user in access!User id:115; User name:eddy\n",
      "Product Department: access department\n",
      "Insert a department in access!Department number:256\n"
     ]
    }
   ],
   "source": [
    "\"\"\"\n",
    "User 数据库对象\n",
    "\"\"\"\n",
    "class User:\n",
    "    @property\n",
    "    def user_id(self):\n",
    "        return self.__user_id\n",
    "    \n",
    "    @user_id.setter\n",
    "    def user_id(self, value):\n",
    "        self.__user_id = value\n",
    "\n",
    "    @property\n",
    "    def user_name(self):\n",
    "        return self.__user_name\n",
    "\n",
    "    @user_name.setter\n",
    "    def user_name(self, value):\n",
    "        self.__user_name = value\n",
    "        \n",
    "    def __str__(self):\n",
    "        return 'User id:'+self.user_id+'; User name:'+self.user_name\n",
    "  \n",
    "\n",
    "\"\"\"\n",
    "User 操作接口\n",
    "\"\"\"\n",
    "class AbstractUser(object):\n",
    "    def __init__(self, name):\n",
    "        self.name = name\n",
    "\n",
    "    def __str__(self):\n",
    "        return \"Product User: %s\" % self.name\n",
    "    \n",
    "    @abstractmethod\n",
    "    def insert_user(self,user):\n",
    "        pass\n",
    "\n",
    "class SqlserverUser(AbstractUser):\n",
    "    def insert_user(self,user):\n",
    "        print(\"Insert a user in sql server!\"+str(user))\n",
    "\n",
    "\n",
    "class AccessUser(AbstractUser):\n",
    "    def insert_user(self,user):\n",
    "        print(\"Insert a user in access!\"+str(user))\n",
    "\n",
    "\n",
    "\"\"\"\n",
    "Department 数据库对象\n",
    "\"\"\"\n",
    "class Department:\n",
    "    @property\n",
    "    def department_number(self):\n",
    "        return self.__department_number\n",
    "    @department_number.setter\n",
    "    def department_number(self, value):\n",
    "        self.__department_number = value\n",
    "        \n",
    "    def __str__(self):\n",
    "        return 'Department number:'+self.department_number\n",
    "\n",
    "\"\"\"\n",
    "Department 操作接口\n",
    "\"\"\"\n",
    "class AbstractDepartment(object):\n",
    "    def __init__(self, name):\n",
    "        self.name = name\n",
    "\n",
    "    def __str__(self):\n",
    "        return \"Product Department: %s\" % self.name\n",
    "    \n",
    "    @abstractmethod\n",
    "    def insert_department(self,department):\n",
    "        pass\n",
    "\n",
    "\n",
    "class SqlsererDepartment(AbstractDepartment):\n",
    "    def insert_department(self,department):\n",
    "        print(\"Insert a department in sql server!\"+str(department))\n",
    "\n",
    "class AccessDepartment(AbstractDepartment):\n",
    "    def insert_department(self,department):\n",
    "        print(\"Insert a department in access!\"+str(department))\n",
    "                \n",
    "\n",
    "class AbstractFactory(metaclass=ABCMeta):\n",
    "    \"\"\"\n",
    "    抽象工厂接口, 包含所有产品创建的抽象方法\n",
    "    \"\"\"\n",
    "    @abstractmethod\n",
    "    def create_user(self):\n",
    "        pass\n",
    "\n",
    "    @abstractmethod\n",
    "    def create_department(self):\n",
    "        pass\n",
    "\n",
    "\n",
    "class SqlserverFactory(AbstractFactory):\n",
    "    \"\"\"\n",
    "    具体工厂, 创建具有特定实现的产品对象\n",
    "    \"\"\"\n",
    "    def create_user(self):\n",
    "        return SqlserverUser(\"sqlserver user\")\n",
    "\n",
    "    def create_department(self):\n",
    "        return SqlsererDepartment(\"sqlserver department\")\n",
    "\n",
    "\n",
    "class AccessFactory(AbstractFactory):\n",
    "    def create_user(self):\n",
    "        return AccessUser(\"access user\")\n",
    "\n",
    "    def create_department(self):\n",
    "        return AccessDepartment(\"access department\")\n",
    "\n",
    "\n",
    "if __name__ == '__main__':\n",
    "    #factory = SqlserverFactory()\n",
    "    factory = AccessFactory()\n",
    "    \n",
    "    \n",
    "    user = User()\n",
    "    user.user_id='115'\n",
    "    user.user_name='eddy'\n",
    "    iUser = factory.create_user()\n",
    "    print(iUser)\n",
    "    iUser.insert_user(user)\n",
    "    \n",
    "    department = Department()\n",
    "    department.department_number='256'\n",
    "    iDepartment = factory.create_department()\n",
    "    print(iDepartment)\n",
    "    iDepartment.insert_department(department)\n",
    "    \n",
    "   "
   ]
  },
  {
   "cell_type": "markdown",
   "metadata": {},
   "source": [
    "## d.利用反射"
   ]
  },
  {
   "cell_type": "markdown",
   "metadata": {},
   "source": [
    "![title](imgs/reflection.png)"
   ]
  },
  {
   "cell_type": "code",
   "execution_count": 10,
   "metadata": {},
   "outputs": [],
   "source": [
    "class DataAccess(object):\n",
    "    _db = 'Sqlserver'\n",
    "    #_db = 'Access'\n",
    "    def create_user(self):\n",
    "        user_name = self._db+'User(\"'+self._db+' user\")'\n",
    "        return eval(user_name)\n",
    "    \n",
    "    def create_department(self):\n",
    "        user_name = self._db+'Department(\"'+self._db+' department\")'\n",
    "        return eval(user_name)"
   ]
  },
  {
   "cell_type": "code",
   "execution_count": 11,
   "metadata": {},
   "outputs": [
    {
     "name": "stdout",
     "output_type": "stream",
     "text": [
      "Product User: Sqlserver user\n",
      "Insert a user in sql server!User id:115; User name:eddy\n"
     ]
    },
    {
     "ename": "NameError",
     "evalue": "name 'SqlserverDepartment' is not defined",
     "output_type": "error",
     "traceback": [
      "\u001b[1;31m---------------------------------------------------------------------------\u001b[0m",
      "\u001b[1;31mNameError\u001b[0m                                 Traceback (most recent call last)",
      "\u001b[1;32m<ipython-input-11-a5a5bc05776d>\u001b[0m in \u001b[0;36m<module>\u001b[1;34m\u001b[0m\n\u001b[0;32m      3\u001b[0m \u001b[0miUser\u001b[0m\u001b[1;33m.\u001b[0m\u001b[0minsert_user\u001b[0m\u001b[1;33m(\u001b[0m\u001b[0muser\u001b[0m\u001b[1;33m)\u001b[0m\u001b[1;33m\u001b[0m\u001b[0m\n\u001b[0;32m      4\u001b[0m \u001b[1;33m\u001b[0m\u001b[0m\n\u001b[1;32m----> 5\u001b[1;33m \u001b[0miDepartment\u001b[0m \u001b[1;33m=\u001b[0m \u001b[0mDataAccess\u001b[0m\u001b[1;33m(\u001b[0m\u001b[1;33m)\u001b[0m\u001b[1;33m.\u001b[0m\u001b[0mcreate_department\u001b[0m\u001b[1;33m(\u001b[0m\u001b[1;33m)\u001b[0m\u001b[1;33m\u001b[0m\u001b[0m\n\u001b[0m\u001b[0;32m      6\u001b[0m \u001b[0mprint\u001b[0m\u001b[1;33m(\u001b[0m\u001b[0miDepartment\u001b[0m\u001b[1;33m)\u001b[0m\u001b[1;33m\u001b[0m\u001b[0m\n\u001b[0;32m      7\u001b[0m \u001b[0miDepartment\u001b[0m\u001b[1;33m.\u001b[0m\u001b[0minsert_department\u001b[0m\u001b[1;33m(\u001b[0m\u001b[0mdepartment\u001b[0m\u001b[1;33m)\u001b[0m\u001b[1;33m\u001b[0m\u001b[0m\n",
      "\u001b[1;32m<ipython-input-10-f75b475adafb>\u001b[0m in \u001b[0;36mcreate_department\u001b[1;34m(self)\u001b[0m\n\u001b[0;32m      8\u001b[0m     \u001b[1;32mdef\u001b[0m \u001b[0mcreate_department\u001b[0m\u001b[1;33m(\u001b[0m\u001b[0mself\u001b[0m\u001b[1;33m)\u001b[0m\u001b[1;33m:\u001b[0m\u001b[1;33m\u001b[0m\u001b[0m\n\u001b[0;32m      9\u001b[0m         \u001b[0muser_name\u001b[0m \u001b[1;33m=\u001b[0m \u001b[0mself\u001b[0m\u001b[1;33m.\u001b[0m\u001b[0m_db\u001b[0m\u001b[1;33m+\u001b[0m\u001b[1;34m'Department(\"'\u001b[0m\u001b[1;33m+\u001b[0m\u001b[0mself\u001b[0m\u001b[1;33m.\u001b[0m\u001b[0m_db\u001b[0m\u001b[1;33m+\u001b[0m\u001b[1;34m' department\")'\u001b[0m\u001b[1;33m\u001b[0m\u001b[0m\n\u001b[1;32m---> 10\u001b[1;33m         \u001b[1;32mreturn\u001b[0m \u001b[0meval\u001b[0m\u001b[1;33m(\u001b[0m\u001b[0muser_name\u001b[0m\u001b[1;33m)\u001b[0m\u001b[1;33m\u001b[0m\u001b[0m\n\u001b[0m",
      "\u001b[1;32m<string>\u001b[0m in \u001b[0;36m<module>\u001b[1;34m\u001b[0m\n",
      "\u001b[1;31mNameError\u001b[0m: name 'SqlserverDepartment' is not defined"
     ]
    }
   ],
   "source": [
    "iUser = DataAccess().create_user()\n",
    "print(iUser)\n",
    "iUser.insert_user(user)\n",
    "\n",
    "iDepartment = DataAccess().create_department()\n",
    "print(iDepartment)\n",
    "iDepartment.insert_department(department)"
   ]
  },
  {
   "cell_type": "code",
   "execution_count": null,
   "metadata": {},
   "outputs": [],
   "source": []
  }
 ],
 "metadata": {
  "kernelspec": {
   "display_name": "Python 3",
   "language": "python",
   "name": "python3"
  },
  "language_info": {
   "codemirror_mode": {
    "name": "ipython",
    "version": 3
   },
   "file_extension": ".py",
   "mimetype": "text/x-python",
   "name": "python",
   "nbconvert_exporter": "python",
   "pygments_lexer": "ipython3",
   "version": "3.6.4"
  }
 },
 "nbformat": 4,
 "nbformat_minor": 2
}
