{
 "cells": [
  {
   "cell_type": "markdown",
   "metadata": {},
   "source": [
    "# 观察者模式"
   ]
  },
  {
   "cell_type": "markdown",
   "metadata": {},
   "source": [
    "# ![title](imgs/observer.png)"
   ]
  },
  {
   "cell_type": "code",
   "execution_count": 8,
   "metadata": {},
   "outputs": [],
   "source": [
    "from abc import ABCMeta, abstractmethod\n",
    "\n",
    "class Observer(metaclass=ABCMeta):\n",
    "    @abstractmethod\n",
    "    def update(self, message):\n",
    "        pass\n",
    "\n",
    "class Subject(object):\n",
    "    __observers = set()\n",
    "    def attach(self, observer):\n",
    "        self.__observers.add(observer)\n",
    "        \n",
    "    def detach(self, observer):\n",
    "        self.__observers.discard(observer)\n",
    "        \n",
    "    def notify(self, message):\n",
    "        for observer in self.__observers:\n",
    "            observer.update(message)\n",
    "            \n",
    "            \n",
    "class Observer1(Observer):\n",
    "    def __init__(self, name):\n",
    "        self.__name = name\n",
    "        \n",
    "    def update(self, message):\n",
    "        print('Observer '+str(self.__name)+' receive message '+str(message))\n",
    "        \n",
    "class Observer2(Observer):\n",
    "    def __init__(self, name):\n",
    "        self.__name = name\n",
    "       \n",
    "    def update(self, message):\n",
    "        print('Observer '+str(self.__name)+' receive message '+str(message))\n",
    "        \n",
    "class Observer3(Observer):\n",
    "    def __init__(self, name):\n",
    "        self.__name = name\n",
    "       \n",
    "    def update(self, message):\n",
    "        print('Observer '+str(self.__name)+' receive message '+str(message))\n",
    "    "
   ]
  },
  {
   "cell_type": "code",
   "execution_count": 9,
   "metadata": {},
   "outputs": [
    {
     "name": "stdout",
     "output_type": "stream",
     "text": [
      "Observer observer3 receive message message2020\n",
      "Observer observer2 receive message message2020\n",
      "Observer observer1 receive message message2020\n"
     ]
    }
   ],
   "source": [
    "ob1 = Observer1('observer1')\n",
    "ob2 = Observer1('observer2')\n",
    "ob3 = Observer1('observer3')\n",
    "sub = Subject()\n",
    "sub.attach(ob1)\n",
    "sub.attach(ob2)\n",
    "sub.attach(ob3)\n",
    "sub.notify('message2020')"
   ]
  },
  {
   "cell_type": "code",
   "execution_count": null,
   "metadata": {},
   "outputs": [],
   "source": []
  }
 ],
 "metadata": {
  "kernelspec": {
   "display_name": "Python 3",
   "language": "python",
   "name": "python3"
  },
  "language_info": {
   "codemirror_mode": {
    "name": "ipython",
    "version": 3
   },
   "file_extension": ".py",
   "mimetype": "text/x-python",
   "name": "python",
   "nbconvert_exporter": "python",
   "pygments_lexer": "ipython3",
   "version": "3.6.4"
  }
 },
 "nbformat": 4,
 "nbformat_minor": 2
}
