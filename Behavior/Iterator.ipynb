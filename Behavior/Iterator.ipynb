{
 "cells": [
  {
   "cell_type": "markdown",
   "metadata": {},
   "source": [
    "# 迭代器模式"
   ]
  },
  {
   "cell_type": "markdown",
   "metadata": {},
   "source": [
    "# ![title](imgs/iterator.png)"
   ]
  },
  {
   "cell_type": "code",
   "execution_count": 23,
   "metadata": {},
   "outputs": [],
   "source": [
    "from abc import ABCMeta, abstractmethod\n",
    "class Iterator(metaclass=ABCMeta):\n",
    "    @abstractmethod\n",
    "    def first(self)->object:\n",
    "        pass\n",
    "    \n",
    "    @abstractmethod\n",
    "    def next(self)->object:\n",
    "        pass\n",
    "    \n",
    "    @abstractmethod\n",
    "    def is_done(self)->bool:\n",
    "        pass\n",
    "    \n",
    "    @abstractmethod\n",
    "    def current_item(self)->object:\n",
    "        pass\n",
    "    \n",
    "class Aggregate(metaclass=ABCMeta):\n",
    "    @abstractmethod\n",
    "    def create_iterator(self):\n",
    "        pass"
   ]
  },
  {
   "cell_type": "code",
   "execution_count": 24,
   "metadata": {},
   "outputs": [],
   "source": [
    "class ConcreteIteractor(Iterator):\n",
    "    __current = 0\n",
    "    def __init__(self, aggregate):\n",
    "        self.__aggregate = aggregate\n",
    "    \n",
    "    def first(self)->object:\n",
    "        return self.__aggregate.item(0)\n",
    "    \n",
    "    def next(self)->object:\n",
    "        self.__current = self.__current + 1\n",
    "        if self.__current < self.__aggregate.count():\n",
    "            return self.__aggregate.item(self.__current)\n",
    "        else:\n",
    "            return None\n",
    "        \n",
    "    def is_done(self)->bool:\n",
    "        if self.__current >= self.__aggregate.count():\n",
    "            return True\n",
    "        else:\n",
    "            return False\n",
    "        \n",
    "    def current_item(self)->object:\n",
    "        return self.__aggregate.item(self.__current)\n",
    "    \n",
    "    \n",
    "class ConcreteAggregate(Aggregate):\n",
    "    __items=[]\n",
    "    def create_iterator(self):\n",
    "        return ConcreateIterator(self)\n",
    "    \n",
    "    def count(self):\n",
    "        return len(self.__items)\n",
    "    \n",
    "    def item(self, index):\n",
    "        return self.__items[index]\n",
    "    \n",
    "    def push_back(self, value):\n",
    "        self.__items.append(value) \n"
   ]
  },
  {
   "cell_type": "code",
   "execution_count": 25,
   "metadata": {},
   "outputs": [
    {
     "name": "stdout",
     "output_type": "stream",
     "text": [
      "大鸟 请买票！\n",
      "小菜 请买票！\n",
      "行李 请买票！\n",
      "老外 请买票！\n",
      "小偷 请买票！\n"
     ]
    }
   ],
   "source": [
    "a = ConcreteAggregate()\n",
    "a.push_back('大鸟')\n",
    "a.push_back('小菜')\n",
    "a.push_back('行李')\n",
    "a.push_back('老外')\n",
    "a.push_back('小偷')\n",
    "\n",
    "itor = ConcreteIteractor(a)\n",
    "item =  itor.first()\n",
    "while not itor.is_done():\n",
    "    print(str(itor.current_item())+' 请买票！')\n",
    "    itor.next()"
   ]
  },
  {
   "cell_type": "code",
   "execution_count": 26,
   "metadata": {},
   "outputs": [],
   "source": [
    "from collections import Iterable"
   ]
  },
  {
   "cell_type": "code",
   "execution_count": 27,
   "metadata": {},
   "outputs": [
    {
     "data": {
      "text/plain": [
       "False"
      ]
     },
     "execution_count": 27,
     "metadata": {},
     "output_type": "execute_result"
    }
   ],
   "source": [
    "isinstance(a, Iterable)"
   ]
  },
  {
   "cell_type": "code",
   "execution_count": 28,
   "metadata": {},
   "outputs": [],
   "source": [
    "items = ['大鸟','小菜','行李','老外','小偷']"
   ]
  },
  {
   "cell_type": "code",
   "execution_count": 32,
   "metadata": {},
   "outputs": [
    {
     "name": "stdout",
     "output_type": "stream",
     "text": [
      "<list_iterator object at 0x00000160D45F0F28>\n"
     ]
    }
   ],
   "source": [
    "it = iter(items)\n",
    "print(it)"
   ]
  },
  {
   "cell_type": "code",
   "execution_count": 33,
   "metadata": {},
   "outputs": [
    {
     "name": "stdout",
     "output_type": "stream",
     "text": [
      "大鸟 请买票！\n",
      "小菜 请买票！\n",
      "行李 请买票！\n",
      "老外 请买票！\n",
      "小偷 请买票！\n"
     ]
    },
    {
     "ename": "StopIteration",
     "evalue": "",
     "output_type": "error",
     "traceback": [
      "\u001b[1;31m---------------------------------------------------------------------------\u001b[0m",
      "\u001b[1;31mStopIteration\u001b[0m                             Traceback (most recent call last)",
      "\u001b[1;32m<ipython-input-33-292d466823f5>\u001b[0m in \u001b[0;36m<module>\u001b[1;34m\u001b[0m\n\u001b[0;32m      4\u001b[0m \u001b[0mprint\u001b[0m\u001b[1;33m(\u001b[0m\u001b[0mnext\u001b[0m\u001b[1;33m(\u001b[0m\u001b[0mit\u001b[0m\u001b[1;33m)\u001b[0m\u001b[1;33m+\u001b[0m\u001b[1;34m' 请买票！'\u001b[0m\u001b[1;33m)\u001b[0m\u001b[1;33m\u001b[0m\u001b[0m\n\u001b[0;32m      5\u001b[0m \u001b[0mprint\u001b[0m\u001b[1;33m(\u001b[0m\u001b[0mnext\u001b[0m\u001b[1;33m(\u001b[0m\u001b[0mit\u001b[0m\u001b[1;33m)\u001b[0m\u001b[1;33m+\u001b[0m\u001b[1;34m' 请买票！'\u001b[0m\u001b[1;33m)\u001b[0m\u001b[1;33m\u001b[0m\u001b[0m\n\u001b[1;32m----> 6\u001b[1;33m \u001b[0mprint\u001b[0m\u001b[1;33m(\u001b[0m\u001b[0mnext\u001b[0m\u001b[1;33m(\u001b[0m\u001b[0mit\u001b[0m\u001b[1;33m)\u001b[0m\u001b[1;33m+\u001b[0m\u001b[1;34m' 请买票！'\u001b[0m\u001b[1;33m)\u001b[0m\u001b[1;33m\u001b[0m\u001b[0m\n\u001b[0m",
      "\u001b[1;31mStopIteration\u001b[0m: "
     ]
    }
   ],
   "source": [
    "print(next(it)+' 请买票！')\n",
    "print(next(it)+' 请买票！')\n",
    "print(next(it)+' 请买票！')\n",
    "print(next(it)+' 请买票！')\n",
    "print(next(it)+' 请买票！')\n",
    "print(next(it)+' 请买票！')"
   ]
  },
  {
   "cell_type": "code",
   "execution_count": null,
   "metadata": {},
   "outputs": [],
   "source": []
  }
 ],
 "metadata": {
  "kernelspec": {
   "display_name": "Python 3",
   "language": "python",
   "name": "python3"
  },
  "language_info": {
   "codemirror_mode": {
    "name": "ipython",
    "version": 3
   },
   "file_extension": ".py",
   "mimetype": "text/x-python",
   "name": "python",
   "nbconvert_exporter": "python",
   "pygments_lexer": "ipython3",
   "version": "3.6.4"
  }
 },
 "nbformat": 4,
 "nbformat_minor": 2
}
