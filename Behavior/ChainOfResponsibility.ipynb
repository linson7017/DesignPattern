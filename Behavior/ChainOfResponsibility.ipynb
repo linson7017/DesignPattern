{
 "cells": [
  {
   "cell_type": "markdown",
   "metadata": {},
   "source": [
    "# 职责链模式"
   ]
  },
  {
   "cell_type": "code",
   "execution_count": 5,
   "metadata": {},
   "outputs": [],
   "source": [
    "from abc import ABCMeta, abstractmethod\n",
    "class Handler:\n",
    "    def __init__(self,name):\n",
    "        self._name = name\n",
    "        self._successor = None\n",
    "    \n",
    "    def set_successor(self, successor):\n",
    "        self._successor = successor\n",
    "    \n",
    "    @abstractmethod\n",
    "    def handle_request(self, request):\n",
    "        pass\n",
    "\n",
    "class ConcreteHandler1(Handler):\n",
    "    def handle_request(self, request):\n",
    "        if request >= 0 and request < 10:\n",
    "            print(str(self._name)+'处理请求'+str(request))\n",
    "        elif self._successor != None:\n",
    "            self._successor.handle_request(request)\n",
    "        else:\n",
    "            print('No handler deal with the request'+str(request))\n",
    "\n",
    "            \n",
    "class ConcreteHandler2(Handler):\n",
    "    def handle_request(self, request):\n",
    "        if request >= 10 and request < 20:\n",
    "            print(str(self._name)+'处理请求'+str(request))\n",
    "        elif self._successor != None:\n",
    "            self._successor.handle_request(request)\n",
    "        else:\n",
    "            print('No handler deal with the request'+str(request))\n",
    "         \n",
    "        \n",
    "class ConcreteHandler3(Handler):\n",
    "    def handle_request(self, request):\n",
    "        if request >= 20 and request < 30:\n",
    "            print(str(self._name)+'处理请求'+str(request))\n",
    "        elif self._successor != None:\n",
    "            self._successor.handle_request(request)\n",
    "        else:\n",
    "            print('No handler deal with the request'+str(request))"
   ]
  },
  {
   "cell_type": "code",
   "execution_count": 6,
   "metadata": {},
   "outputs": [
    {
     "name": "stdout",
     "output_type": "stream",
     "text": [
      "handle1处理请求2\n",
      "handle1处理请求5\n",
      "handle2处理请求14\n",
      "handle3处理请求22\n",
      "handle2处理请求18\n",
      "handle1处理请求3\n",
      "handle3处理请求27\n",
      "handle3处理请求20\n"
     ]
    }
   ],
   "source": [
    "h1 = ConcreteHandler1('handle1')\n",
    "h2 = ConcreteHandler2('handle2')\n",
    "h3 = ConcreteHandler3('handle3')\n",
    "h1.set_successor(h2)\n",
    "h2.set_successor(h3)\n",
    "\n",
    "requests = [2,5,14,22,18,3,27,20]\n",
    "\n",
    "for i in requests:\n",
    "    h1.handle_request(i)"
   ]
  }
 ],
 "metadata": {
  "kernelspec": {
   "display_name": "Python 3",
   "language": "python",
   "name": "python3"
  }
 },
 "nbformat": 4,
 "nbformat_minor": 2
}
